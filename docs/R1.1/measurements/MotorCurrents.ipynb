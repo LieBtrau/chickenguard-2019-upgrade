{
 "cells": [
  {
   "cell_type": "code",
   "execution_count": 9,
   "metadata": {},
   "outputs": [
    {
     "name": "stdout",
     "output_type": "stream",
     "text": [
      "got  235 lines\n",
      "Average current:  1635.4 mA\n",
      "Max current:  1770.6 mA\n",
      "Min current:  1420.0 mA\n",
      "Standard deviation:  66.26 mA \n",
      "\n"
     ]
    }
   ],
   "source": [
    "import re\n",
    "\n",
    "# Logging line example : [ 67998][I][motorControl.cpp:97] run(): [MotorControl] Current: 418.549988\n",
    "# Use a regular expression to extract the current value\n",
    "# The regular expression is: \\d+\\.\\d+\n",
    "\n",
    "#!/usr/bin/env python3\n",
    "\n",
    "import re\n",
    "import pandas as pd\n",
    "import os\n",
    "\n",
    "def parsemyFile(filename):\n",
    "    # Open the file for reading and read all the lines.\n",
    "    # Parse each line using the parsemystring function and put the results in a list\n",
    "    # Then plot the list using matplotlib as an XY-plot\n",
    "\n",
    "    results = []\n",
    "\n",
    "    with open(filename, 'r') as f:\n",
    "        lines = f.readlines()\n",
    "        for line in lines:\n",
    "            timestamp, current = parsemystring(line)\n",
    "            if not timestamp is None and not current is None:\n",
    "                results.append([timestamp, current])\n",
    "    return results\n",
    "\n",
    "\n",
    "def parsemystring(mystring):\n",
    "    # Use a regular expression to extract the timestamp and the current value\n",
    "    # example line : \"[179726][I][motorControl.cpp:97] run(): [MotorControl] Current: 1493.400024\"\n",
    "    # The regular expression is: \\[(\\d+)\\].*Current: (\\d+\\.\\d+)\n",
    "\n",
    "    m = re.match(r'\\[\\W*(\\d+)\\].*Current: (\\d+\\.\\d+)', mystring)\n",
    "    if not m is None:\n",
    "        timestamp = m.group(1)\n",
    "        current = m.group(2)\n",
    "        return timestamp, current\n",
    "    else:\n",
    "        return None, None\n",
    "\n",
    "# result = parsemyFile('4.5V_lettingDown.log')\n",
    "# result = parsemyFile('4.5V_pullingUp.log')\n",
    "# result = parsemyFile('6V_lettingdown.log')\n",
    "result = parsemyFile('6V_pullingUp.log')\n",
    "\n",
    "data = pd.DataFrame(result, columns=['timestamp [ms]', 'current [mA]'])\n",
    "\n",
    "#all columns are strings, convert to numeric otherwise NaN\n",
    "data = data.apply(pd.to_numeric, errors='coerce')\n",
    "data['timestamp [ms]'] = data['timestamp [ms]'] - data['timestamp [ms]'].min()\n",
    "\n",
    "print(\"got % d lines\" % len(data))\n",
    "data.head()\n",
    "\n",
    "print('Average current: ', round(data['current [mA]'].mean(),1), 'mA')\n",
    "print('Max current: ', round(data['current [mA]'].max(),1), 'mA')\n",
    "print('Min current: ', round(data['current [mA]'].min(),1), 'mA')\n",
    "print('Standard deviation: ', round(data['current [mA]'].std(),2), 'mA \\n')"
   ]
  },
  {
   "attachments": {},
   "cell_type": "markdown",
   "metadata": {},
   "source": [
    "# VMOTOR = 4.5V\n",
    "## Lowering the door\n",
    "Average current:  434.1 mA\n",
    "Max current:  539.0 mA\n",
    "Min current:  383.5 mA\n",
    "Standard deviation:  23.76 mA \n",
    "\n",
    "## Raising the door\n",
    "Average current:  1363.2 mA\n",
    "Max current:  1523.9 mA\n",
    "Min current:  1201.5 mA\n",
    "Standard deviation:  87.81 mA \n",
    "\n",
    "# VMOTOR = 6.0V\n",
    "## Lowering the door\n",
    "Average current:  522.9 mA\n",
    "Max current:  581.3 mA\n",
    "Min current:  456.0 mA\n",
    "Standard deviation:  30.42 mA \n",
    "\n",
    "## Raising the door\n",
    "Average current:  1635.4 mA\n",
    "Max current:  1770.6 mA\n",
    "Min current:  1420.0 mA\n",
    "Standard deviation:  66.26 mA "
   ]
  },
  {
   "cell_type": "code",
   "execution_count": 12,
   "metadata": {},
   "outputs": [
    {
     "name": "stdout",
     "output_type": "stream",
     "text": [
      "Ratio lowering:  1.2\n",
      "Ratio lifting:  1.2\n"
     ]
    }
   ],
   "source": [
    "# Lowering door\n",
    "I_45 = 434.1\n",
    "I_6 = 522.9\n",
    "\n",
    "ratio_lowering = I_6 / I_45\n",
    "print('Ratio lowering: ', round(ratio_lowering,2))\n",
    "\n",
    "# Raising door\n",
    "I_45 = 1363.2\n",
    "I_6 = 1635.4\n",
    "ratio_lifting = I_6 / I_45\n",
    "print('Ratio lifting: ', round(ratio_lifting,2))\n"
   ]
  }
 ],
 "metadata": {
  "kernelspec": {
   "display_name": "Python 3",
   "language": "python",
   "name": "python3"
  },
  "language_info": {
   "codemirror_mode": {
    "name": "ipython",
    "version": 3
   },
   "file_extension": ".py",
   "mimetype": "text/x-python",
   "name": "python",
   "nbconvert_exporter": "python",
   "pygments_lexer": "ipython3",
   "version": "3.10.6"
  },
  "orig_nbformat": 4
 },
 "nbformat": 4,
 "nbformat_minor": 2
}
