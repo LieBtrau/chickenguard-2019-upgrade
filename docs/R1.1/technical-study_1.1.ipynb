{
 "cells": [
  {
   "attachments": {},
   "cell_type": "markdown",
   "metadata": {},
   "source": [
    "# External RTC\n",
    "An SOIC8 package is the most common package for RTCs, seconded by TSSOP (which is smaller).  The Diodes PT7C4337WEX has been chosen because its command set resembles the DS1337 very much and it's affordable.\n",
    "\n",
    "The RTC is powered by the battery, but we'll add some buffer capacitors, so that the batteries can be replaced without having to reconfigure the time."
   ]
  },
  {
   "cell_type": "code",
   "execution_count": 1,
   "metadata": {},
   "outputs": [],
   "source": [
    "# Calculating the time to discharge a capacitor by the RTC\n",
    "i = 800e-9 # A, maximal RTC current\n",
    "C = 20e-6 # F, buffer capacitor\n",
    "V1 = 1.2 # V, minimal RTC voltage\n",
    "V2 = 5 # V, minimal battery voltage\n",
    "\n",
    "dt = C * (V2 - V1) / i"
   ]
  }
 ],
 "metadata": {
  "kernelspec": {
   "display_name": "Python 3",
   "language": "python",
   "name": "python3"
  },
  "language_info": {
   "codemirror_mode": {
    "name": "ipython",
    "version": 3
   },
   "file_extension": ".py",
   "mimetype": "text/x-python",
   "name": "python",
   "nbconvert_exporter": "python",
   "pygments_lexer": "ipython3",
   "version": "3.10.6"
  },
  "orig_nbformat": 4
 },
 "nbformat": 4,
 "nbformat_minor": 2
}
