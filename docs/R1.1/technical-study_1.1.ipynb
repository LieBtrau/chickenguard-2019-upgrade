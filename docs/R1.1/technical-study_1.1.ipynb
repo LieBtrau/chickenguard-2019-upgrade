{
 "cells": [
  {
   "attachments": {},
   "cell_type": "markdown",
   "metadata": {},
   "source": [
    "# External RTC\n",
    "An SOIC8 package is the most common package for RTCs, seconded by TSSOP (which is smaller).  The Diodes PT7C4337WEX has been chosen because its command set resembles the DS1337 very much and it's affordable.\n",
    "\n",
    "The RTC is powered by the battery, but we'll add some buffer capacitors, so that the batteries can be replaced without having to reconfigure the time."
   ]
  },
  {
   "cell_type": "code",
   "execution_count": 1,
   "metadata": {},
   "outputs": [],
   "source": [
    "# Calculating the time to discharge a capacitor by the RTC\n",
    "i = 800e-9 # A, maximal RTC current\n",
    "C = 20e-6 # F, buffer capacitor\n",
    "V1 = 1.2 # V, minimal RTC voltage\n",
    "V2 = 5 # V, minimal battery voltage\n",
    "\n",
    "dt = C * (V2 - V1) / i"
   ]
  },
  {
   "attachments": {},
   "cell_type": "markdown",
   "metadata": {},
   "source": [
    "# Firmware\n",
    "## RTC-time\n",
    "ESP32-C32 [system-time](https://docs.espressif.com/projects/esp-idf/en/v4.3/esp32c3/api-reference/system/system_time.html) is clocked by an internal 150kHz oscillator.  It can't be changed by PlatformIO.  The **CONFIG_ESP32C3_TIME_SYSCALL** must be changed in ESP-IDF config file.\n",
    "* [DS1307RTC Library](https://www.pjrc.com/teensy/td_libs_DS1307RTC.html)\n",
    "\n",
    "# WiFi Access Point\n",
    "* [Create a WiFi access point with an ESP32](https://www.upesy.com/blogs/tutorials/how-create-a-wifi-acces-point-with-esp32#)\n",
    "\n",
    "# Captive portal\n",
    "Redirect all HTTP-requests to the web server.  The web server will redirect all requests to the captive portal so that the user doesn't have to know the IP-address of the web server.\n",
    "* [Captive Portal example](https://github.com/CDFER/Captive-Portal-ESP32)\n",
    "\n",
    "# Web interface\n",
    "Used technologies : websockets, javascript, html, css, JSON\n",
    "\n",
    "* [ESPUI](https://github.com/s00500/ESPUI)\n",
    "  * This library depends on many other libraries.  Unfortunately, the underlying libraries caused a lot of compiler errors.  I spend some time trying to fix them, but eventually gave up.  A new ESP-IDF upgrade would probably break some of the libraries again.\n",
    "* [ESP32 Remote Control with WebSocket](https://m1cr0lab-esp32.github.io/remote-control-with-websocket/), [source code](https://github.com/m1cr0lab-esp32/remote-control-with-websocket)\n",
    "* [ESP32 WebSocket Server: Control Outputs (Arduino IDE)](https://randomnerdtutorials.com/esp32-websocket-server-arduino/)\n",
    "\n",
    "## Geo-location\n",
    "[HTML Geolocation API](https://www.w3schools.com/html/html5_geolocation.asp)\n",
    "\n",
    "## Time\n",
    "* [HTML element time](https://developer.mozilla.org/en-US/docs/Web/HTML/Element/input/time)\n",
    "\n",
    "# Libraries\n",
    "* [Solar Calculator](https://github.com/jpb10/SolarCalculator)\n",
    "* [ArduinoJson](https://github.com/bblanchon/ArduinoJson)\n",
    "\n",
    "### Visualize time\n",
    "![sunset](https://icon-library.com/images/sunset-icon/sunset-icon-17.jpg)\n",
    "\n",
    "* [Sunrise icon](https://icon-library.com/icon/sunrise-icon-png-16.html)\n",
    "\n",
    "![Sunrise](https://icon-library.com/images/sunrise-icon-png/sunrise-icon-png-16.jpg)\n",
    "\n",
    "* [Sunset icon](https://icon-library.com/icon/sunset-icon-17.html)\n"
   ]
  }
 ],
 "metadata": {
  "kernelspec": {
   "display_name": "Python 3",
   "language": "python",
   "name": "python3"
  },
  "language_info": {
   "codemirror_mode": {
    "name": "ipython",
    "version": 3
   },
   "file_extension": ".py",
   "mimetype": "text/x-python",
   "name": "python",
   "nbconvert_exporter": "python",
   "pygments_lexer": "ipython3",
   "version": "3.10.6"
  },
  "orig_nbformat": 4
 },
 "nbformat": 4,
 "nbformat_minor": 2
}
