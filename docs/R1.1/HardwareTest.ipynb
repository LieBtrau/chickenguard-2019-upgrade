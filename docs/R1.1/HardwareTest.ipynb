{
 "cells": [
  {
   "attachments": {},
   "cell_type": "markdown",
   "metadata": {},
   "source": [
    "# Test incident reports\n",
    "#### [TIR1](#TIR1)\n",
    "* When VMOTOR turns on, there's parasitic power that feeds back to the gate of Q305, turning VMOTOR off.\n",
    "* The main issue is that USB data lines are feeding into VUSB through D401.  Insert a schottky diode between VUSB and D401 to prevent this.\n",
    "* Remove R117 because it makes a path from +3V3 to R115, Q100 into VDBG.  Removing R117 still allows the MCU to be programmed.\n",
    "\n",
    "#### [TIR2](#TIR2)\n",
    "* A parasitic current flows from VBAT to body diode of Q300, to R304, R303 through D106, D107, D108 , R110, R111, R112 to 3V3.  The leakage of D106, D107 and D108 causes the leakage.  To make matters worse, these diodes are in parallel, so their leakage currents add up.\n",
    "* Because the BAV170 was not available, BAT54C diodes have been used.  BAT54C has a much higher leakage current.\n",
    "* Instead of the obscure BAV170, we might try using BC856B PNP-transistors instead.\n",
    "\n",
    "# Power test\n",
    "## Power on by switch\n",
    "* Test: Power on by switch\n",
    "* Expected result: Power on when switch pushed\n",
    "* Actual result: power turns on and off when switch pushed\n",
    "* Status: ❌ [TIR1](#TIR1)\n",
    "\n",
    "## VRTC\n",
    "* Test: Measure VRTC voltage when only battery is connected and MCU is not powered.\n",
    "* Expected result: VRTC is between 1.8Vmin, 2.2Vtyp and 2.9Vmax\n",
    "* Actual result: 2.11V\n",
    "* Status: ✅\n",
    "\n",
    "## Sleep current\n",
    "* Test: Measure sleep current when only battery is connected and MCU is not powered and RTC is not outputting a square wave.\n",
    "* Expected result: Sleep current around 500nA\n",
    "* Actual result: 1.3µA\n",
    "* Status: ❌ [TIR2](#TIR2)\n",
    "\n",
    "## Communication test\n",
    "### USB VID:PID\n",
    "* Test: Get USB VID:PID\n",
    "* Expected result: \n",
    "* Actual result: 303A:0001 Espressif USB JTAG/serial debug unit\n",
    "* Status: ✅\n",
    "\n",
    "### USB serial\n",
    "* Test:\n",
    "  * Connect to USB serial port and send and receive data\n",
    "  * Enable USB-CDC in platformio.ini with '-DARDUINO_USB_MODE=1'\n",
    "* Expected result: Receive data and send data works\n",
    "* Actual result: Received data and sent data works\n",
    "* Status: ✅"
   ]
  }
 ],
 "metadata": {
  "language_info": {
   "name": "python"
  },
  "orig_nbformat": 4
 },
 "nbformat": 4,
 "nbformat_minor": 2
}
