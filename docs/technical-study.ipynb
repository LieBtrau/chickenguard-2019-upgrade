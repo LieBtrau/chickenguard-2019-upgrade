{
 "cells": [
  {
   "attachments": {},
   "cell_type": "markdown",
   "metadata": {},
   "source": [
    "# Motor \n",
    "## Motor current of SGMADA 27063800\n",
    "* Door weight : 336g\n",
    "* Vcc= 6V\n",
    "* Motor overload current : > 50mA\n",
    "* Motor current during lifting : 37-43mA\n",
    "* Motor current during no load : 19.5 - 21mA\n",
    "* Motor current during lowering : 13.5 - 15mA\n",
    "\n",
    "## Motor driver\n",
    "Motor driver will be directly fed from the battery.  The back-EMF will be absorbed by the battery.\n",
    "\n",
    "### TI DRV8231ADDAR\n",
    "#### Current sense\n",
    "* Select Rsense so that 30mA is in the middle of the ADC range.\n",
    "* Rsense = 15Kohm\n",
    "* Provide a 10nF capacitor parallel to Rsense (prevents premature trigger of current regulation)\n",
    "* Vref = 2.25V \n",
    "  * input current to Vref not defined\n",
    "  * Problem : power consumption of Vref when in sleep mode:\n",
    "  * Solution : diode OR-ing of IN1 and IN2 charges a capacitor to Vx.  A TLV431, powered from Vx then provides Vref."
   ]
  },
  {
   "cell_type": "code",
   "execution_count": 14,
   "metadata": {},
   "outputs": [],
   "source": [
    "Imotor = 30e-3 # A\n",
    "Vsense = 0.65 # V\n",
    "Ai = 1500e-6 # A/A\n",
    "Rsense = Vsense / (Imotor * Ai)\n",
    "\n",
    "Rsense = 15e3\n",
    "Itrip = 0.1 # A\n",
    "Vref = Itrip * Ai * Rsense # V, must be between 0 and 3.6V"
   ]
  },
  {
   "attachments": {},
   "cell_type": "markdown",
   "metadata": {},
   "source": [
    "#### Low power sleep\n",
    "* Input pins have 100Kohm pull-down\n",
    "* Bringing  both inputs low puts the device in sleep mode\n",
    "* Low power sleep current : 1µA (Ivmq)\n",
    "\n",
    "#### Current regulation during startup and stall\n",
    "* UVLO = 4.5V\n",
    "* Add 47µF || 100nF on Vm\n",
    "* Ramping up PWM might be a way to avoid tripping current regulation during startup.\n",
    "\n",
    "### Toshiba TB67H450AFNG,EL\n",
    "* Motor current flows through Rsense."
   ]
  },
  {
   "cell_type": "code",
   "execution_count": 18,
   "metadata": {},
   "outputs": [],
   "source": [
    "Itrip = 0.1\n",
    "Rsense = 1\n",
    "Ai = 10\n",
    "Vref = Itrip * Ai * Rsense"
   ]
  },
  {
   "attachments": {},
   "cell_type": "markdown",
   "metadata": {},
   "source": [
    "When Rsense is 1ohm, MCU ADC attenuation should be ADC_ATTEN_DB_2_5 (max 1.05V input)\n",
    "\n",
    "# MCU\n",
    "## ADC\n",
    "* Use ADC1, it's factory calibrated\n",
    "* Lowest relative error in ATTEN2 range (up to 1.3V input) : [ADC_ATTEN_DB_6](https://docs.espressif.com/projects/arduino-esp32/en/latest/api/adc.html)\n",
    "* Put a series resistor to limit the input current in case over-current events.\n",
    "\n",
    "## RTC\n",
    "* 32kHz crystal needed (is on ADC1.CH0 and ADC1.CH1).  RTC-counter can have other sources, but these are not accurate enough.\n",
    "\n",
    "## Display\n",
    "* IO expander\n",
    "* I2C level translator\n",
    "* digital potentiometer\n",
    "\n",
    "## Connectors\n",
    "It should not be possible to reverse plug in the connectors.\n",
    "* USB-C\n",
    "* battery\n",
    "* motor\n",
    "\n",
    "# Web interface\n",
    "## Button on webpage controls GPIO\n",
    "Used technologies : websockets, javascript, html, css, JSON\n",
    "\n",
    "* [ESP32 Remote Control with WebSocket](https://m1cr0lab-esp32.github.io/remote-control-with-websocket/)\n",
    "* [ESP32 WebSocket Server: Control Outputs (Arduino IDE)](https://randomnerdtutorials.com/esp32-websocket-server-arduino/)\n",
    "\n",
    "## Geo-location\n",
    "[HTML Geolocation API](https://www.w3schools.com/html/html5_geolocation.asp)\n",
    "\n",
    "## Time\n",
    "[HTML element time](https://developer.mozilla.org/en-US/docs/Web/HTML/Element/input/time)\n",
    "\n",
    "# Libraries\n",
    "* [Solar Calculator](https://github.com/jpb10/SolarCalculator)\n",
    "* [ArduinoJson](https://github.com/bblanchon/ArduinoJson)\n",
    "\n",
    "### Visualize time\n",
    "![sunset](https://icon-library.com/images/sunset-icon/sunset-icon-17.jpg)\n",
    "\n",
    "* [Sunrise icon](https://icon-library.com/icon/sunrise-icon-png-16.html)\n",
    "\n",
    "![Sunrise](https://icon-library.com/images/sunrise-icon-png/sunrise-icon-png-16.jpg)\n",
    "\n",
    "* [Sunset icon](https://icon-library.com/icon/sunset-icon-17.html)\n"
   ]
  }
 ],
 "metadata": {
  "kernelspec": {
   "display_name": "Python 3",
   "language": "python",
   "name": "python3"
  },
  "language_info": {
   "codemirror_mode": {
    "name": "ipython",
    "version": 3
   },
   "file_extension": ".py",
   "mimetype": "text/x-python",
   "name": "python",
   "nbconvert_exporter": "python",
   "pygments_lexer": "ipython3",
   "version": "3.10.6"
  },
  "orig_nbformat": 4
 },
 "nbformat": 4,
 "nbformat_minor": 2
}
